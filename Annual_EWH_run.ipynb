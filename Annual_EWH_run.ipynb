{
 "cells": [
  {
   "cell_type": "code",
   "execution_count": 3,
   "metadata": {},
   "outputs": [],
   "source": [
    "import numpy\n",
    "import scipy\n",
    "import csv\n",
    "import os"
   ]
  },
  {
   "cell_type": "markdown",
   "metadata": {},
   "source": [
    "Load all .csv boundary condition files (ambient conditions, mains temp, and draw profile)"
   ]
  },
  {
   "cell_type": "code",
   "execution_count": null,
   "metadata": {},
   "outputs": [],
   "source": [
    "#TODO: RH is currently unused, will need to import some psych calculations to get a WB\n",
    "#TODO: Use a .epw weather file? We'll eventually need atmospheric pressure (for psych calcs), could also estimate unconditioned space temp/rh based on ambient or calc mains directly based on weather file info\n",
    "ambient_cond_file = open((os.path.join(os.path.dirname(__file__),'data_files','ambient.csv')),\"r\" #hourly ambient air temperature and RH\n",
    "mains_temp_file = open((os.path.join(os.path.dirname(__file__),'data_files','draw.csv')),\"r\") #hourly inlet water temperature\n",
    "draw_profile_file = open((os.path.join(os.path.dirname(__file__),'data_files','tmains.csv')),\"r\") #minutely draw profile (shower, sink, CW, DW, bath)\n",
    "                                 \n",
    "timestep = (1/60.0)\n",
    "for hour in range(8760):\n",
    "    for minute in range(60):\n",
    "    draw_timestep = (60 * hour + min) + 1\n",
    "    Tamb = "
   ]
  }
 ],
 "metadata": {
  "kernelspec": {
   "display_name": "Python 2",
   "language": "python",
   "name": "python2"
  },
  "language_info": {
   "codemirror_mode": {
    "name": "ipython",
    "version": 2
   },
   "file_extension": ".py",
   "mimetype": "text/x-python",
   "name": "python",
   "nbconvert_exporter": "python",
   "pygments_lexer": "ipython2",
   "version": "2.7.12"
  }
 },
 "nbformat": 4,
 "nbformat_minor": 2
}
